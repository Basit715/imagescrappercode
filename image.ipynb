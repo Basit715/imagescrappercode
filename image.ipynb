{
 "cells": [
  {
   "cell_type": "code",
   "execution_count": 1,
   "metadata": {},
   "outputs": [],
   "source": [
    "import requests\n",
    "import os\n",
    "import logging\n",
    "from bs4 import BeautifulSoup\n",
    "from urllib.request import urlopen\n",
    "\n",
    "\n"
   ]
  },
  {
   "cell_type": "code",
   "execution_count": 2,
   "metadata": {},
   "outputs": [],
   "source": [
    "save_dirs = \"images/\"\n",
    "if not os.path.exists(save_dirs):\n",
    "     os.makedirs(save_dirs)"
   ]
  },
  {
   "cell_type": "code",
   "execution_count": 16,
   "metadata": {},
   "outputs": [],
   "source": [
    "query = \"Babar Azam\"\n",
    "# url = https://www.google.com/search?sxsrf=AB5stBiZfYC3rckOreIrl-tuD9b4WPc75g:1690725535794&q=shahid+afridi&tbm=isch&source=lnms&sa=X&sqi=2&ved=2ahUKEwiyxuS3y7aAAxUJn2MGHSpUBg4Q0pQJegQIDBAB&biw=1366&bih=619&dpr=1\n",
    "\n",
    "response = requests.get(f\"https://www.google.com/search?sxsrf=AB5stBiZfYC3rckOreIrl-tuD9b4WPc75g:1690725535794&q={query}&tbm=isch&source=lnms&sa=X&sqi=2&ved=2ahUKEwiyxuS3y7aAAxUJn2MGHSpUBg4Q0pQJegQIDBAB&biw=1366&bih=619&dpr=1\")  \n",
    "\n",
    "\n",
    "\n"
   ]
  },
  {
   "cell_type": "code",
   "execution_count": 7,
   "metadata": {},
   "outputs": [],
   "source": [
    "soup = BeautifulSoup(response.content, \"html.parser\")"
   ]
  },
  {
   "cell_type": "code",
   "execution_count": 11,
   "metadata": {},
   "outputs": [],
   "source": [
    "image_tags = soup.find_all(\"img\")\n",
    "image_tags\n",
    "\n",
    "del image_tags[0]"
   ]
  },
  {
   "cell_type": "code",
   "execution_count": 17,
   "metadata": {},
   "outputs": [],
   "source": [
    "for index, image_tag in enumerate(image_tags):\n",
    "     image_url = image_tag['src']\n",
    "     \n",
    "     image_data = requests.get(image_url).content\n",
    "     mydict = {\"index\": index, \"Image\": image_data}\n",
    "      \n",
    "     with open(os.path.join(save_dirs, f\"{query}_{image_tags.index(image_tag)}.jpg\"), \"wb\") as f:\n",
    "          f.write(image_data) "
   ]
  }
 ],
 "metadata": {
  "kernelspec": {
   "display_name": "Python 3",
   "language": "python",
   "name": "python3"
  },
  "language_info": {
   "codemirror_mode": {
    "name": "ipython",
    "version": 3
   },
   "file_extension": ".py",
   "mimetype": "text/x-python",
   "name": "python",
   "nbconvert_exporter": "python",
   "pygments_lexer": "ipython3",
   "version": "3.10.9"
  },
  "orig_nbformat": 4
 },
 "nbformat": 4,
 "nbformat_minor": 2
}
